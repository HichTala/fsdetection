{
 "cells": [
  {
   "cell_type": "code",
   "id": "initial_id",
   "metadata": {
    "collapsed": true,
    "ExecuteTime": {
     "end_time": "2024-10-25T11:31:34.488425Z",
     "start_time": "2024-10-25T11:31:34.344916Z"
    }
   },
   "source": [
    "import pyarrow as pa\n",
    "import pyarrow.compute as pc"
   ],
   "outputs": [],
   "execution_count": 2
  },
  {
   "metadata": {
    "ExecuteTime": {
     "end_time": "2024-10-25T11:35:14.711720Z",
     "start_time": "2024-10-25T11:35:14.705184Z"
    }
   },
   "cell_type": "code",
   "source": "filename = \"/home/hicham/.cache/huggingface/datasets/detection-datasets___coco/default/0.0.0/cf0b22332314a937e9dc8a1957b21725430bb41d/coco-train-00000-of-00020.arrow\"",
   "id": "5c7ca4667ee5c472",
   "outputs": [],
   "execution_count": 11
  },
  {
   "metadata": {
    "ExecuteTime": {
     "end_time": "2024-10-25T11:36:07.071515Z",
     "start_time": "2024-10-25T11:36:07.066669Z"
    }
   },
   "cell_type": "code",
   "source": [
    "memory_mapped_stream = pa.memory_map(filename)\n",
    "opened_stream = pa.ipc.open_stream(memory_mapped_stream)\n",
    "pa_table = opened_stream.read_all()"
   ],
   "id": "595f7e7e96c08674",
   "outputs": [],
   "execution_count": 15
  },
  {
   "metadata": {
    "ExecuteTime": {
     "end_time": "2024-10-25T11:36:38.578256Z",
     "start_time": "2024-10-25T11:36:38.575040Z"
    }
   },
   "cell_type": "code",
   "source": "pa_table.column_names",
   "id": "aa51743e0c5bc477",
   "outputs": [
    {
     "data": {
      "text/plain": [
       "['image_id', 'image', 'width', 'height', 'objects']"
      ]
     },
     "execution_count": 18,
     "metadata": {},
     "output_type": "execute_result"
    }
   ],
   "execution_count": 18
  },
  {
   "metadata": {
    "ExecuteTime": {
     "end_time": "2024-10-25T11:48:30.198943Z",
     "start_time": "2024-10-25T11:48:30.191987Z"
    }
   },
   "cell_type": "code",
   "source": "category_list = pc.struct_field(pa_table['objects'], 'category')",
   "id": "76c32744ad4c3b92",
   "outputs": [],
   "execution_count": 21
  },
  {
   "metadata": {
    "ExecuteTime": {
     "end_time": "2024-10-25T12:04:18.004720Z",
     "start_time": "2024-10-25T12:04:17.974113Z"
    }
   },
   "cell_type": "code",
   "source": [
    "masks = {}\n",
    "for i, cats in enumerate(category_list):\n",
    "    for cat in cats:\n",
    "        py_cat = cat.as_py()\n",
    "        if py_cat not in masks.keys():\n",
    "            masks[py_cat] = [False]*len(category_list)\n",
    "        masks[py_cat][i] = True"
   ],
   "id": "8cc828e24024a9fd",
   "outputs": [],
   "execution_count": 40
  },
  {
   "metadata": {
    "ExecuteTime": {
     "end_time": "2024-10-25T12:03:37.470Z",
     "start_time": "2024-10-25T12:03:37.448980Z"
    }
   },
   "cell_type": "code",
   "source": "len(pa_table.filter(masks[45]))",
   "id": "61b790a44a9697fe",
   "outputs": [
    {
     "data": {
      "text/plain": [
       "364"
      ]
     },
     "execution_count": 39,
     "metadata": {},
     "output_type": "execute_result"
    }
   ],
   "execution_count": 39
  }
 ],
 "metadata": {
  "kernelspec": {
   "display_name": "Python 3",
   "language": "python",
   "name": "python3"
  },
  "language_info": {
   "codemirror_mode": {
    "name": "ipython",
    "version": 2
   },
   "file_extension": ".py",
   "mimetype": "text/x-python",
   "name": "python",
   "nbconvert_exporter": "python",
   "pygments_lexer": "ipython2",
   "version": "2.7.6"
  }
 },
 "nbformat": 4,
 "nbformat_minor": 5
}
