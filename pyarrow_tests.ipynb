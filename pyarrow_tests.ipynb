{
 "cells": [
  {
   "cell_type": "code",
   "id": "initial_id",
   "metadata": {
    "collapsed": true,
    "ExecuteTime": {
     "end_time": "2024-10-28T10:28:50.171188Z",
     "start_time": "2024-10-28T10:28:49.818806Z"
    }
   },
   "source": [
    "import pyarrow as pa\n",
    "import pyarrow.compute as pc"
   ],
   "outputs": [],
   "execution_count": 1
  },
  {
   "metadata": {
    "ExecuteTime": {
     "end_time": "2024-10-28T10:29:03.829841Z",
     "start_time": "2024-10-28T10:29:03.819271Z"
    }
   },
   "cell_type": "code",
   "source": "filename = \"/home/hicham/.cache/huggingface/datasets/detection-datasets___coco/default/0.0.0/cf0b22332314a937e9dc8a1957b21725430bb41d/coco-train-00000-of-00020.arrow\"",
   "id": "5c7ca4667ee5c472",
   "outputs": [],
   "execution_count": 2
  },
  {
   "metadata": {
    "ExecuteTime": {
     "end_time": "2024-10-28T10:29:08.980231Z",
     "start_time": "2024-10-28T10:29:08.973506Z"
    }
   },
   "cell_type": "code",
   "source": [
    "memory_mapped_stream = pa.memory_map(filename)\n",
    "opened_stream = pa.ipc.open_stream(memory_mapped_stream)\n",
    "pa_table = opened_stream.read_all()"
   ],
   "id": "595f7e7e96c08674",
   "outputs": [],
   "execution_count": 3
  },
  {
   "metadata": {
    "ExecuteTime": {
     "end_time": "2024-10-28T10:29:10.286544Z",
     "start_time": "2024-10-28T10:29:10.279104Z"
    }
   },
   "cell_type": "code",
   "source": "pa_table.column_names",
   "id": "aa51743e0c5bc477",
   "outputs": [
    {
     "data": {
      "text/plain": [
       "['image_id', 'image', 'width', 'height', 'objects']"
      ]
     },
     "execution_count": 4,
     "metadata": {},
     "output_type": "execute_result"
    }
   ],
   "execution_count": 4
  },
  {
   "metadata": {
    "ExecuteTime": {
     "end_time": "2024-10-28T10:29:11.281319Z",
     "start_time": "2024-10-28T10:29:11.277108Z"
    }
   },
   "cell_type": "code",
   "source": "category_list = pc.struct_field(pa_table['objects'], 'category')",
   "id": "76c32744ad4c3b92",
   "outputs": [],
   "execution_count": 5
  },
  {
   "metadata": {
    "ExecuteTime": {
     "end_time": "2024-10-28T10:29:12.697431Z",
     "start_time": "2024-10-28T10:29:12.634040Z"
    }
   },
   "cell_type": "code",
   "source": [
    "masks = {}\n",
    "for i, cats in enumerate(category_list):\n",
    "    for cat in cats:\n",
    "        py_cat = cat.as_py()\n",
    "        if py_cat not in masks.keys():\n",
    "            masks[py_cat] = [False]*len(category_list)\n",
    "        masks[py_cat][i] = True"
   ],
   "id": "8cc828e24024a9fd",
   "outputs": [],
   "execution_count": 6
  },
  {
   "metadata": {
    "ExecuteTime": {
     "end_time": "2024-10-28T10:29:14.070691Z",
     "start_time": "2024-10-28T10:29:13.606808Z"
    }
   },
   "cell_type": "code",
   "source": "len(pa_table.filter(masks[45]))",
   "id": "61b790a44a9697fe",
   "outputs": [
    {
     "data": {
      "text/plain": [
       "364"
      ]
     },
     "execution_count": 7,
     "metadata": {},
     "output_type": "execute_result"
    }
   ],
   "execution_count": 7
  }
 ],
 "metadata": {
  "kernelspec": {
   "display_name": "Python 3",
   "language": "python",
   "name": "python3"
  },
  "language_info": {
   "codemirror_mode": {
    "name": "ipython",
    "version": 2
   },
   "file_extension": ".py",
   "mimetype": "text/x-python",
   "name": "python",
   "nbconvert_exporter": "python",
   "pygments_lexer": "ipython2",
   "version": "2.7.6"
  }
 },
 "nbformat": 4,
 "nbformat_minor": 5
}
